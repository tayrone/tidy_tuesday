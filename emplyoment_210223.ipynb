{
  "nbformat": 4,
  "nbformat_minor": 0,
  "metadata": {
    "colab": {
      "name": "emplyoment_210223.ipynb",
      "provenance": [],
      "collapsed_sections": [],
      "authorship_tag": "ABX9TyMiOElncSiTkTh74rCcjRX9",
      "include_colab_link": true
    },
    "kernelspec": {
      "name": "python3",
      "display_name": "Python 3"
    },
    "language_info": {
      "name": "python"
    }
  },
  "cells": [
    {
      "cell_type": "markdown",
      "metadata": {
        "id": "view-in-github",
        "colab_type": "text"
      },
      "source": [
        "<a href=\"https://colab.research.google.com/github/tayrone/tidy_tuesday/blob/master/emplyoment_210223.ipynb\" target=\"_parent\"><img src=\"https://colab.research.google.com/assets/colab-badge.svg\" alt=\"Open In Colab\"/></a>"
      ]
    },
    {
      "cell_type": "code",
      "metadata": {
        "id": "6rLV3H_5YoLn"
      },
      "source": [
        "import pandas as pd\n",
        "import numpy as np\n",
        "import matplotlib.pyplot as plt\n",
        "\n",
        "\n",
        "employed = pd.read_csv('https://raw.githubusercontent.com/rfordatascience/tidytuesday/master/data/2021/2021-02-23/employed.csv')\n"
      ],
      "execution_count": null,
      "outputs": []
    },
    {
      "cell_type": "code",
      "metadata": {
        "id": "CB9oR4v_dA1C"
      },
      "source": [
        "employed.shape"
      ],
      "execution_count": null,
      "outputs": []
    },
    {
      "cell_type": "code",
      "metadata": {
        "id": "alQynGGHaRG0"
      },
      "source": [
        "employed[employed.employ_n == 0]"
      ],
      "execution_count": null,
      "outputs": []
    },
    {
      "cell_type": "code",
      "metadata": {
        "id": "SDnGTJHPZnGc"
      },
      "source": [
        "employed['industry'].unique()"
      ],
      "execution_count": null,
      "outputs": []
    },
    {
      "cell_type": "code",
      "metadata": {
        "colab": {
          "base_uri": "https://localhost:8080/"
        },
        "id": "ubsPlDZ-dlcZ",
        "outputId": "e5a9d923-597d-43f9-b091-64a325392aac"
      },
      "source": [
        "unusual_industries = employed[employed.industry.isin([np.nan, 'Men', 'Women',\n",
        "       'White', 'Black or African American', 'Asian'])]\n",
        "\n",
        "unusual_industries.industry_total.unique()"
      ],
      "execution_count": null,
      "outputs": [
        {
          "output_type": "execute_result",
          "data": {
            "text/plain": [
              "array([nan])"
            ]
          },
          "metadata": {},
          "execution_count": 27
        }
      ]
    },
    {
      "cell_type": "code",
      "metadata": {
        "colab": {
          "base_uri": "https://localhost:8080/",
          "height": 589
        },
        "id": "YhfaVhpIhvXB",
        "outputId": "b61ca8c1-c130-4ca6-e60e-2b8f6f4346a4"
      },
      "source": [
        "usual_industries = employed[~employed.industry.isin([np.nan, 'Men', 'Women',\n",
        "       'White', 'Black or African American', 'Asian'])]\n",
        "\n",
        "usual_industries"
      ],
      "execution_count": null,
      "outputs": [
        {
          "output_type": "execute_result",
          "data": {
            "text/html": [
              "<div>\n",
              "<style scoped>\n",
              "    .dataframe tbody tr th:only-of-type {\n",
              "        vertical-align: middle;\n",
              "    }\n",
              "\n",
              "    .dataframe tbody tr th {\n",
              "        vertical-align: top;\n",
              "    }\n",
              "\n",
              "    .dataframe thead th {\n",
              "        text-align: right;\n",
              "    }\n",
              "</style>\n",
              "<table border=\"1\" class=\"dataframe\">\n",
              "  <thead>\n",
              "    <tr style=\"text-align: right;\">\n",
              "      <th></th>\n",
              "      <th>industry</th>\n",
              "      <th>major_occupation</th>\n",
              "      <th>minor_occupation</th>\n",
              "      <th>race_gender</th>\n",
              "      <th>industry_total</th>\n",
              "      <th>employ_n</th>\n",
              "      <th>year</th>\n",
              "    </tr>\n",
              "  </thead>\n",
              "  <tbody>\n",
              "    <tr>\n",
              "      <th>0</th>\n",
              "      <td>Agriculture and related</td>\n",
              "      <td>Management, professional, and related occupations</td>\n",
              "      <td>Management, business, and financial operations...</td>\n",
              "      <td>TOTAL</td>\n",
              "      <td>2349000.0</td>\n",
              "      <td>961000.0</td>\n",
              "      <td>2020</td>\n",
              "    </tr>\n",
              "    <tr>\n",
              "      <th>1</th>\n",
              "      <td>Agriculture and related</td>\n",
              "      <td>Management, professional, and related occupations</td>\n",
              "      <td>Professional and related occupations</td>\n",
              "      <td>TOTAL</td>\n",
              "      <td>2349000.0</td>\n",
              "      <td>58000.0</td>\n",
              "      <td>2020</td>\n",
              "    </tr>\n",
              "    <tr>\n",
              "      <th>2</th>\n",
              "      <td>Agriculture and related</td>\n",
              "      <td>Service occupations</td>\n",
              "      <td>Protective service occupations</td>\n",
              "      <td>TOTAL</td>\n",
              "      <td>2349000.0</td>\n",
              "      <td>13000.0</td>\n",
              "      <td>2020</td>\n",
              "    </tr>\n",
              "    <tr>\n",
              "      <th>3</th>\n",
              "      <td>Agriculture and related</td>\n",
              "      <td>Service occupations</td>\n",
              "      <td>Service occupations, except protective</td>\n",
              "      <td>TOTAL</td>\n",
              "      <td>2349000.0</td>\n",
              "      <td>94000.0</td>\n",
              "      <td>2020</td>\n",
              "    </tr>\n",
              "    <tr>\n",
              "      <th>4</th>\n",
              "      <td>Agriculture and related</td>\n",
              "      <td>Sales and office occupations</td>\n",
              "      <td>Sales and related occupations</td>\n",
              "      <td>TOTAL</td>\n",
              "      <td>2349000.0</td>\n",
              "      <td>12000.0</td>\n",
              "      <td>2020</td>\n",
              "    </tr>\n",
              "    <tr>\n",
              "      <th>...</th>\n",
              "      <td>...</td>\n",
              "      <td>...</td>\n",
              "      <td>...</td>\n",
              "      <td>...</td>\n",
              "      <td>...</td>\n",
              "      <td>...</td>\n",
              "      <td>...</td>\n",
              "    </tr>\n",
              "    <tr>\n",
              "      <th>8179</th>\n",
              "      <td>Public administration</td>\n",
              "      <td>Natural resources, construction, and maintenan...</td>\n",
              "      <td>Farming, fishing, and forestry occupations</td>\n",
              "      <td>Asian</td>\n",
              "      <td>300000.0</td>\n",
              "      <td>1000.0</td>\n",
              "      <td>2015</td>\n",
              "    </tr>\n",
              "    <tr>\n",
              "      <th>8180</th>\n",
              "      <td>Public administration</td>\n",
              "      <td>Natural resources, construction, and maintenan...</td>\n",
              "      <td>Construction and extraction occupations</td>\n",
              "      <td>Asian</td>\n",
              "      <td>300000.0</td>\n",
              "      <td>1000.0</td>\n",
              "      <td>2015</td>\n",
              "    </tr>\n",
              "    <tr>\n",
              "      <th>8181</th>\n",
              "      <td>Public administration</td>\n",
              "      <td>Natural resources, construction, and maintenan...</td>\n",
              "      <td>Installation, maintenance, and repair occupations</td>\n",
              "      <td>Asian</td>\n",
              "      <td>300000.0</td>\n",
              "      <td>4000.0</td>\n",
              "      <td>2015</td>\n",
              "    </tr>\n",
              "    <tr>\n",
              "      <th>8182</th>\n",
              "      <td>Public administration</td>\n",
              "      <td>Production, transportation, and material movin...</td>\n",
              "      <td>Production occupations</td>\n",
              "      <td>Asian</td>\n",
              "      <td>300000.0</td>\n",
              "      <td>3000.0</td>\n",
              "      <td>2015</td>\n",
              "    </tr>\n",
              "    <tr>\n",
              "      <th>8183</th>\n",
              "      <td>Public administration</td>\n",
              "      <td>Production, transportation, and material movin...</td>\n",
              "      <td>Transportation and material moving occupations</td>\n",
              "      <td>Asian</td>\n",
              "      <td>300000.0</td>\n",
              "      <td>4000.0</td>\n",
              "      <td>2015</td>\n",
              "    </tr>\n",
              "  </tbody>\n",
              "</table>\n",
              "<p>7524 rows × 7 columns</p>\n",
              "</div>"
            ],
            "text/plain": [
              "                     industry  ...  year\n",
              "0     Agriculture and related  ...  2020\n",
              "1     Agriculture and related  ...  2020\n",
              "2     Agriculture and related  ...  2020\n",
              "3     Agriculture and related  ...  2020\n",
              "4     Agriculture and related  ...  2020\n",
              "...                       ...  ...   ...\n",
              "8179    Public administration  ...  2015\n",
              "8180    Public administration  ...  2015\n",
              "8181    Public administration  ...  2015\n",
              "8182    Public administration  ...  2015\n",
              "8183    Public administration  ...  2015\n",
              "\n",
              "[7524 rows x 7 columns]"
            ]
          },
          "metadata": {},
          "execution_count": 33
        }
      ]
    },
    {
      "cell_type": "code",
      "metadata": {
        "colab": {
          "base_uri": "https://localhost:8080/",
          "height": 593
        },
        "id": "9x5DZnBVlqUX",
        "outputId": "64ffa00f-ea8a-482b-8168-f2536c0f234b"
      },
      "source": [
        "import seaborn as sns\n",
        "\n",
        "industry_total_plot = sns.barplot(x = 'industry', y = 'industry_total', data = usual_industries)\n",
        "\n",
        "for item in industry_total_plot.get_xticklabels():\n",
        "    item.set_rotation(90)\n",
        "\n",
        "industry_total_plot"
      ],
      "execution_count": null,
      "outputs": [
        {
          "output_type": "execute_result",
          "data": {
            "text/plain": [
              "<matplotlib.axes._subplots.AxesSubplot at 0x7f2859d0c510>"
            ]
          },
          "metadata": {},
          "execution_count": 36
        },
        {
          "output_type": "stream",
          "name": "stderr",
          "text": [
            "/usr/local/lib/python3.7/dist-packages/matplotlib/backends/backend_agg.py:214: RuntimeWarning: Glyph 13 missing from current font.\n",
            "  font.set_text(s, 0.0, flags=flags)\n",
            "/usr/local/lib/python3.7/dist-packages/matplotlib/backends/backend_agg.py:183: RuntimeWarning: Glyph 13 missing from current font.\n",
            "  font.set_text(s, 0, flags=flags)\n"
          ]
        },
        {
          "output_type": "display_data",
          "data": {
            "image/png": "[encoded data removed]",
            "text/plain": [
              "<Figure size 432x288 with 1 Axes>"
            ]
          },
          "metadata": {
            "needs_background": "light"
          }
        }
      ]
    }
  ]
}